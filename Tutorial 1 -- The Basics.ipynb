{
 "cells": [
  {
   "cell_type": "markdown",
   "id": "7167adf3",
   "metadata": {},
   "source": [
    "# Counting Subgraphs with PACT\n",
    "\n",
    "This notebook is intended as a quick practical introduction for the most basic way to count subgraphs using **PACT (PAttern Counting Toolkit)**.\n",
    "\n",
    "We will work through a running example in which we want to count the how often all 7 node trees occur as subgraphs in an example host graph. The folder `data/tutorial` should contain files describing all of our pattern graphs (the trees with 7 nodes), the full *spasm base* of our patterns, and a host graph file `schi_pombe.gml`. The pattern and spasm base graphs were created with nauty (their creation process is described in detail at the end of this tutorial).  Our example host graph is the PPI network of *Schizosaccharomyces pombe* (fission yeast), derived from the [BioGRID](https://thebiogrid.org/) dataset.\n"
   ]
  },
  {
   "cell_type": "markdown",
   "id": "866790a0",
   "metadata": {},
   "source": [
    "# Part 1: Pattern Precomputations\n",
    "\n",
    "Our overall intention is to compute the number of times a pattern $P$ occurrs as a subgraph in hostgraph $H$, in short we write $\\#Sub(P \\rightarrow H)$ for this number. We will do so using the following identity:\n",
    "\n",
    "$$\\#Sub(P \\rightarrow H) = \\sum_{F \\in Spasm(P)} \\mu(F,P) \\cdot \\#Hom(F \\rightarrow H)$$\n",
    "\n",
    "where\n",
    "  - $Spasm(P)$ is the set of all homomorphic loop-free images of $P$,\n",
    "  - $\\mu(F,P)$ is a coefficient depending on $P$ and $H$, and\n",
    "  -  $\\#Hom(F \\rightarrow H)$ is the number of homomorphisms from $F$ into $H$.\n",
    "  \n",
    "We will refer to the set $Spasm(P)$ together with the corresponding coefficients $\\mu$ as the *homomorphism base* of $P$. Computing the homomorphism base as well as $\\#Hom$ is computationally expensive, but more flexible and cheaper (for larger patterns) than other known methods of obtaining $\\#Sub(P \\rightarrow H)$. \n",
    "\n",
    "Note that the identity is not a heuristic or similar, the resulting count is the **exact** number of non-induced subgraph occurrences of $P$ in $H$."
   ]
  },
  {
   "cell_type": "code",
   "execution_count": 1,
   "id": "ff036059",
   "metadata": {},
   "outputs": [],
   "source": [
    "%load_ext rich\n",
    "%load_ext autoreload\n",
    "%autoreload 2\n",
    "import networkx as nx\n",
    "import matplotlib.pyplot as plt\n",
    "from itertools import islice\n",
    "plt.rcParams[\"figure.figsize\"] = (2, 2)"
   ]
  },
  {
   "cell_type": "markdown",
   "id": "0cc33c45",
   "metadata": {},
   "source": [
    "## Loading the Patterns\n",
    "\n",
    "For convenience we use the settings module for a unified interface to input files for different scenarios. Ideally, simply switching the imported settings allows us to seemlessly change the analysed patterns and spasm graphs.\n",
    "\n",
    "The individual graphs are stored as `GraphWrapper` objects, which wraps networkx graphs with various additional information that will be useful for our subgraph counting process, like a unique `id`. We do nothing else special with the patterns and just store them in a standard python contain (here a dictionary, indexed by the graphs internal id)."
   ]
  },
  {
   "cell_type": "code",
   "execution_count": 2,
   "id": "71693ed9",
   "metadata": {},
   "outputs": [],
   "source": [
    "import settings.tutorial as settings\n",
    "from pact.graphwrapper import GraphWrapper\n",
    "\n",
    "patterns = dict()\n",
    "\n",
    "with open(settings.raw_pattern_filename(), 'r') as f:\n",
    "    lines = map(str.rstrip, f.readlines())\n",
    "    for line in lines:\n",
    "        G = GraphWrapper.from_g6str(line, **settings.PATTERN_GRAPHWRAPPER_PARAMS)\n",
    "        patterns[G.id] = G"
   ]
  },
  {
   "cell_type": "code",
   "execution_count": 3,
   "id": "b90daee9",
   "metadata": {},
   "outputs": [
    {
     "data": {
      "text/html": [
       "<pre style=\"white-space:pre;overflow-x:auto;line-height:normal;font-family:Menlo,'DejaVu Sans Mono',consolas,'Courier New',monospace\"></pre>\n"
      ],
      "text/plain": []
     },
     "metadata": {},
     "output_type": "display_data"
    },
    {
     "data": {
      "image/png": "[encoded data removed]",
      "text/plain": [
       "\u001b[1m<\u001b[0m\u001b[1;95mFigure\u001b[0m\u001b[39m size 20\u001b[0m\u001b[1;36m0x200\u001b[0m\u001b[39m with \u001b[0m\u001b[1;36m1\u001b[0m\u001b[39m Axes\u001b[0m\u001b[1m>\u001b[0m"
      ]
     },
     "metadata": {},
     "output_type": "display_data"
    }
   ],
   "source": [
    "ex_pat = list(patterns.values())[-2]\n",
    "nx.draw(ex_pat.graph)"
   ]
  },
  {
   "cell_type": "markdown",
   "id": "eab29362",
   "metadata": {},
   "source": [
    "## The Spasm Space\n",
    "\n",
    "In the basic usage of PACT for subgraph counting we also explicitly specify a *spasm space*. Formally this is a set of graphs $S$ such that $Spasm(P) \\subseteq S$ for each pattern $P$ that we want to count.\n",
    "\n",
    "Since our patterns are all the trees with 7 nodes, we know that the spasm space must contain all connected graphs with at most 7 nodes and 6 edges.\n",
    "\n",
    "The spasm space is stored in a special `SpasmSpace` object, which implements various techniques for optimising later computations."
   ]
  },
  {
   "cell_type": "code",
   "execution_count": 4,
   "id": "098a4f5f",
   "metadata": {},
   "outputs": [],
   "source": [
    "from pact.spasmspace import SpasmSpace\n",
    "\n",
    "spasm_space = SpasmSpace()\n",
    "\n",
    "for sf in settings.raw_spasm_filenames():\n",
    "    with open(sf) as f:\n",
    "        lines = list(map(str.rstrip, f.readlines()))\n",
    "        spasm_space.add_from_g6lines(lines, settings.SPASM_GRAPHWRAPPER_PARAMS)"
   ]
  },
  {
   "cell_type": "markdown",
   "id": "dbbbb64a",
   "metadata": {},
   "source": [
    "We'll get an example graph `ex_graph` from the spasm space to illustrate some operations going forward.\n",
    "\n",
    "To get an interesting graph we can use the `iter_by_ev(x, y)` method which gives us an iterator over all graphs in the spasm space with *x* edgs and *y* vertices. We can then draw the graph using networkx by accessing the graph attribute, which stores the networkx graph inside our wrapped graph."
   ]
  },
  {
   "cell_type": "code",
   "execution_count": 5,
   "id": "58f515ec",
   "metadata": {},
   "outputs": [
    {
     "data": {
      "text/html": [
       "<pre style=\"white-space:pre;overflow-x:auto;line-height:normal;font-family:Menlo,'DejaVu Sans Mono',consolas,'Courier New',monospace\"></pre>\n"
      ],
      "text/plain": []
     },
     "metadata": {},
     "output_type": "display_data"
    },
    {
     "data": {
      "image/png": "[encoded data removed]",
      "text/plain": [
       "\u001b[1m<\u001b[0m\u001b[1;95mFigure\u001b[0m\u001b[39m size 20\u001b[0m\u001b[1;36m0x200\u001b[0m\u001b[39m with \u001b[0m\u001b[1;36m1\u001b[0m\u001b[39m Axes\u001b[0m\u001b[1m>\u001b[0m"
      ]
     },
     "metadata": {},
     "output_type": "display_data"
    }
   ],
   "source": [
    "ex_graph = next(spasm_space.iter_by_ev(6,5))\n",
    "nx.draw(ex_graph.graph, with_labels=True, font_color='w')"
   ]
  },
  {
   "cell_type": "markdown",
   "id": "94fe069e",
   "metadata": {},
   "source": [
    "## Computing the Homomorphism Base of Patterns\n",
    "\n",
    "The homomorphism base of a graph $P$ are those graphs in the spasm space for which the coefficient $\\mu_F$ in the sum above is not zero. This can be quite costly to compute for larger patterns, but it is independent of the host graph and can therefore be pre-computed once.\n",
    "\n",
    "The `hombase_coeffs` function is the basic way to compute the homomorphism base. The function takes as a second parameter a spasm space that must contain all possible graphs in the spasm of the pattern $P$. The homomorphism base is returned as a dictionary with elements of the form $id(F): \\mu(F,P)$ for each graph $F$ in the spasm of $P$. The id's refer to the id of $F$ in the given spasm space.\n",
    "\n",
    "Since we will have to deal with very large numbers of homomorphisms, high precision arithmetic is important here. For this we use the [gmpy2](https://gmpy2.readthedocs.io/en/latest/index.html) package which provides python bindings for the [GNU Multiprecission](https://gmplib.org/) library. In particular, we use the `mpq` type for rational numbers as the coefficients are guaranteed to be rational."
   ]
  },
  {
   "cell_type": "code",
   "execution_count": 6,
   "id": "0ff80895",
   "metadata": {},
   "outputs": [
    {
     "data": {
      "text/html": [
       "<pre style=\"white-space:pre;overflow-x:auto;line-height:normal;font-family:Menlo,'DejaVu Sans Mono',consolas,'Courier New',monospace\"></pre>\n"
      ],
      "text/plain": []
     },
     "metadata": {},
     "output_type": "display_data"
    },
    {
     "data": {
      "text/plain": [
       "\n",
       "\u001b[1m{\u001b[0m\n",
       "    \u001b[1;36m244471403881519891900181704987527009525\u001b[0m: \u001b[1;35mmpq\u001b[0m\u001b[1m(\u001b[0m\u001b[1;36m-3\u001b[0m,\u001b[1;36m1\u001b[0m\u001b[1m)\u001b[0m,\n",
       "    \u001b[1;36m200805017286104562580457396622371148304\u001b[0m: \u001b[1;35mmpq\u001b[0m\u001b[1m(\u001b[0m\u001b[1;36m35\u001b[0m,\u001b[1;36m2\u001b[0m\u001b[1m)\u001b[0m,\n",
       "    \u001b[1;36m280376347674979585194257264981957219449\u001b[0m: \u001b[1;35mmpq\u001b[0m\u001b[1m(\u001b[0m\u001b[1;36m10\u001b[0m,\u001b[1;36m1\u001b[0m\u001b[1m)\u001b[0m,\n",
       "    \u001b[1;36m258662326575684880685635720424942876393\u001b[0m: \u001b[1;35mmpq\u001b[0m\u001b[1m(\u001b[0m\u001b[1;36m-8\u001b[0m,\u001b[1;36m1\u001b[0m\u001b[1m)\u001b[0m,\n",
       "    \u001b[1;36m146011057545644161557291642472811544920\u001b[0m: \u001b[1;35mmpq\u001b[0m\u001b[1m(\u001b[0m\u001b[1;36m-3\u001b[0m,\u001b[1;36m2\u001b[0m\u001b[1m)\u001b[0m,\n",
       "    \u001b[1;36m245413697315286802743807153654882190908\u001b[0m: \u001b[1;35mmpq\u001b[0m\u001b[1m(\u001b[0m\u001b[1;36m-79\u001b[0m,\u001b[1;36m4\u001b[0m\u001b[1m)\u001b[0m,\n",
       "    \u001b[1;36m273134957091060411677327821996853583980\u001b[0m: \u001b[1;35mmpq\u001b[0m\u001b[1m(\u001b[0m\u001b[1;36m-9\u001b[0m,\u001b[1;36m2\u001b[0m\u001b[1m)\u001b[0m,\n",
       "    \u001b[1;36m66719643163285929538505745610842253983\u001b[0m: \u001b[1;35mmpq\u001b[0m\u001b[1m(\u001b[0m\u001b[1;36m-27\u001b[0m,\u001b[1;36m4\u001b[0m\u001b[1m)\u001b[0m,\n",
       "    \u001b[1;36m84273283320066270384244169320407146834\u001b[0m: \u001b[1;35mmpq\u001b[0m\u001b[1m(\u001b[0m\u001b[1;36m3\u001b[0m,\u001b[1;36m1\u001b[0m\u001b[1m)\u001b[0m,\n",
       "    \u001b[1;36m193101649776123763688982186209706020543\u001b[0m: \u001b[1;35mmpq\u001b[0m\u001b[1m(\u001b[0m\u001b[1;36m3\u001b[0m,\u001b[1;36m2\u001b[0m\u001b[1m)\u001b[0m,\n",
       "    \u001b[1;36m69590959277943715886386460662349719302\u001b[0m: \u001b[1;35mmpq\u001b[0m\u001b[1m(\u001b[0m\u001b[1;36m9\u001b[0m,\u001b[1;36m2\u001b[0m\u001b[1m)\u001b[0m,\n",
       "    \u001b[1;36m194004892045500727445598428862645766084\u001b[0m: \u001b[1;35mmpq\u001b[0m\u001b[1m(\u001b[0m\u001b[1;36m5\u001b[0m,\u001b[1;36m4\u001b[0m\u001b[1m)\u001b[0m,\n",
       "    \u001b[1;36m55146198916550377801394465856303775856\u001b[0m: \u001b[1;35mmpq\u001b[0m\u001b[1m(\u001b[0m\u001b[1;36m2\u001b[0m,\u001b[1;36m1\u001b[0m\u001b[1m)\u001b[0m,\n",
       "    \u001b[1;36m54695293067644195284398106656028363738\u001b[0m: \u001b[1;35mmpq\u001b[0m\u001b[1m(\u001b[0m\u001b[1;36m1\u001b[0m,\u001b[1;36m2\u001b[0m\u001b[1m)\u001b[0m,\n",
       "    \u001b[1;36m241758357588706690769845049306420308138\u001b[0m: \u001b[1;35mmpq\u001b[0m\u001b[1m(\u001b[0m\u001b[1;36m9\u001b[0m,\u001b[1;36m2\u001b[0m\u001b[1m)\u001b[0m,\n",
       "    \u001b[1;36m24883373538079352055065965295148335320\u001b[0m: \u001b[1;35mmpq\u001b[0m\u001b[1m(\u001b[0m\u001b[1;36m7\u001b[0m,\u001b[1;36m4\u001b[0m\u001b[1m)\u001b[0m,\n",
       "    \u001b[1;36m183865322710435675491774000165040442587\u001b[0m: \u001b[1;35mmpq\u001b[0m\u001b[1m(\u001b[0m\u001b[1;36m1\u001b[0m,\u001b[1;36m2\u001b[0m\u001b[1m)\u001b[0m,\n",
       "    \u001b[1;36m134672613886082743296041172130123887562\u001b[0m: \u001b[1;35mmpq\u001b[0m\u001b[1m(\u001b[0m\u001b[1;36m-5\u001b[0m,\u001b[1;36m4\u001b[0m\u001b[1m)\u001b[0m,\n",
       "    \u001b[1;36m249250281349047097037132682571385289116\u001b[0m: \u001b[1;35mmpq\u001b[0m\u001b[1m(\u001b[0m\u001b[1;36m-1\u001b[0m,\u001b[1;36m1\u001b[0m\u001b[1m)\u001b[0m,\n",
       "    \u001b[1;36m74311936876948642230131623326800756430\u001b[0m: \u001b[1;35mmpq\u001b[0m\u001b[1m(\u001b[0m\u001b[1;36m-1\u001b[0m,\u001b[1;36m2\u001b[0m\u001b[1m)\u001b[0m,\n",
       "    \u001b[1;36m100146012587478022275270086846012758251\u001b[0m: \u001b[1;35mmpq\u001b[0m\u001b[1m(\u001b[0m\u001b[1;36m-1\u001b[0m,\u001b[1;36m4\u001b[0m\u001b[1m)\u001b[0m,\n",
       "    \u001b[1;36m333447451475214955032543438464829452839\u001b[0m: \u001b[1;35mmpq\u001b[0m\u001b[1m(\u001b[0m\u001b[1;36m-1\u001b[0m,\u001b[1;36m4\u001b[0m\u001b[1m)\u001b[0m,\n",
       "    \u001b[1;36m219831900909649418933876728263860555244\u001b[0m: \u001b[1;35mmpq\u001b[0m\u001b[1m(\u001b[0m\u001b[1;36m-1\u001b[0m,\u001b[1;36m2\u001b[0m\u001b[1m)\u001b[0m,\n",
       "    \u001b[1;36m12314306155591027532348329433199392317\u001b[0m: \u001b[1;35mmpq\u001b[0m\u001b[1m(\u001b[0m\u001b[1;36m1\u001b[0m,\u001b[1;36m4\u001b[0m\u001b[1m)\u001b[0m\n",
       "\u001b[1m}\u001b[0m"
      ]
     },
     "execution_count": 6,
     "metadata": {},
     "output_type": "execute_result"
    }
   ],
   "source": [
    "from pact.hombase import hombase_coeffs\n",
    "\n",
    "hombase_coeffs(ex_pat, spasm_space)"
   ]
  },
  {
   "cell_type": "markdown",
   "id": "af56ff19",
   "metadata": {},
   "source": [
    "The standard pattern for computing all homomorphism bases of our patterns is the following.\n",
    "\n",
    "The iteration here is wrapped inside a `rich.Progress` track as computation can take a while for large (or many) patterns and a progress indicator is helpful.\n",
    "\n",
    "Homomorphism bases are stored in the `hombase` attribute of a `GraphWrapper`."
   ]
  },
  {
   "cell_type": "code",
   "execution_count": 7,
   "id": "05336354",
   "metadata": {},
   "outputs": [
    {
     "data": {
      "application/vnd.jupyter.widget-view+json": {
       "model_id": "63af2cae8d26462495cd1b9987c5d92a",
       "version_major": 2,
       "version_minor": 0
      },
      "text/plain": [
       "Output()"
      ]
     },
     "metadata": {},
     "output_type": "display_data"
    },
    {
     "data": {
      "text/html": [
       "<pre style=\"white-space:pre;overflow-x:auto;line-height:normal;font-family:Menlo,'DejaVu Sans Mono',consolas,'Courier New',monospace\"></pre>\n"
      ],
      "text/plain": []
     },
     "metadata": {},
     "output_type": "display_data"
    },
    {
     "data": {
      "text/html": [
       "<pre style=\"white-space:pre;overflow-x:auto;line-height:normal;font-family:Menlo,'DejaVu Sans Mono',consolas,'Courier New',monospace\">\n",
       "</pre>\n"
      ],
      "text/plain": [
       "\n"
      ]
     },
     "metadata": {},
     "output_type": "display_data"
    }
   ],
   "source": [
    "from pact.ui import default_progressbar\n",
    "\n",
    "with default_progressbar() as progress:\n",
    "    track = progress.track(patterns.values(), total=len(patterns))\n",
    "    for pattern in track:\n",
    "        pattern.hombase = hombase_coeffs(pattern, spasm_space)\n"
   ]
  },
  {
   "cell_type": "markdown",
   "id": "9b6ab694",
   "metadata": {},
   "source": [
    "## Precompute Decompositions for the Spasm Space\n",
    "\n",
    "As outlines above, we will count the subgraph occurrences of our patterns by counting the number of homomorphisms from graphs in the spasm space. \n",
    "\n",
    "To count the homomorphisms effectively we use dynamic programming on tree decompositions. This is again independent of the host graph and can be done in another pre-computation phase (note that there is no dependence on the homomorphism base computation above).\n",
    "\n",
    "There are some technical details involved in this process that will be documented separately in the future. For now, this standard pattern will suffice to compute decompositions. (The `times` parameter scales the number of attempts to find a good decomposition. Better decompositions will lead to faster homomorphism counting.)\n",
    "\n",
    "Decompositions are stored in the `td` attribute of a `GraphWrapper`."
   ]
  },
  {
   "cell_type": "code",
   "execution_count": 10,
   "id": "db358cda",
   "metadata": {},
   "outputs": [
    {
     "data": {
      "application/vnd.jupyter.widget-view+json": {
       "model_id": "53b543e1e7ba41eab16774cd1c19ad78",
       "version_major": 2,
       "version_minor": 0
      },
      "text/plain": [
       "Output()"
      ]
     },
     "metadata": {},
     "output_type": "display_data"
    },
    {
     "data": {
      "text/html": [
       "<pre style=\"white-space:pre;overflow-x:auto;line-height:normal;font-family:Menlo,'DejaVu Sans Mono',consolas,'Courier New',monospace\"></pre>\n"
      ],
      "text/plain": []
     },
     "metadata": {},
     "output_type": "display_data"
    },
    {
     "data": {
      "text/html": [
       "<pre style=\"white-space:pre;overflow-x:auto;line-height:normal;font-family:Menlo,'DejaVu Sans Mono',consolas,'Courier New',monospace\">\n",
       "</pre>\n"
      ],
      "text/plain": [
       "\n"
      ]
     },
     "metadata": {},
     "output_type": "display_data"
    }
   ],
   "source": [
    "from pact.balgowrapper import balgo_multitry_for_cheapest_decomp\n",
    "\n",
    "with default_progressbar() as progress:\n",
    "    track = progress.track(spasm_space.graphs_iter(), len(spasm_space))\n",
    "    for G in track:\n",
    "        decomp, badness = balgo_multitry_for_cheapest_decomp(G, times=2)\n",
    "        G.td = decomp\n",
    "        G.td_badness = badness"
   ]
  },
  {
   "cell_type": "markdown",
   "id": "50ce4138",
   "metadata": {},
   "source": [
    "Decompositions support some basic pretty printing for inspection."
   ]
  },
  {
   "cell_type": "code",
   "execution_count": 11,
   "id": "87f0fb93",
   "metadata": {},
   "outputs": [
    {
     "data": {
      "text/html": [
       "<pre style=\"white-space:pre;overflow-x:auto;line-height:normal;font-family:Menlo,'DejaVu Sans Mono',consolas,'Courier New',monospace\"></pre>\n"
      ],
      "text/plain": []
     },
     "metadata": {},
     "output_type": "display_data"
    },
    {
     "data": {
      "text/plain": [
       "\n",
       "B: \u001b[1m{\u001b[0m\u001b[1;36m0\u001b[0m, \u001b[1;36m3\u001b[0m, \u001b[1;36m4\u001b[0m\u001b[1m}\u001b[0m    λ: \u001b[1m[\u001b[0m\u001b[32m'E_5'\u001b[0m, \u001b[32m'E_0'\u001b[0m\u001b[1m]\u001b[0m\n",
       "  B: \u001b[1m{\u001b[0m\u001b[1;36m2\u001b[0m, \u001b[1;36m4\u001b[0m\u001b[1m}\u001b[0m     λ: \u001b[1m[\u001b[0m\u001b[32m'E_4'\u001b[0m\u001b[1m]\u001b[0m\n",
       "  B: \u001b[1m{\u001b[0m\u001b[1;36m0\u001b[0m, \u001b[1;36m4\u001b[0m\u001b[1m}\u001b[0m     λ: \u001b[1m[\u001b[0m\u001b[32m'E_1'\u001b[0m\u001b[1m]\u001b[0m\n",
       "  B: \u001b[1m{\u001b[0m\u001b[1;36m1\u001b[0m, \u001b[1;36m3\u001b[0m, \u001b[1;36m4\u001b[0m\u001b[1m}\u001b[0m  λ: \u001b[1m[\u001b[0m\u001b[32m'E_3'\u001b[0m, \u001b[32m'E_2'\u001b[0m\u001b[1m]\u001b[0m"
      ]
     },
     "execution_count": 11,
     "metadata": {},
     "output_type": "execute_result"
    }
   ],
   "source": [
    "ex_graph.td"
   ]
  },
  {
   "cell_type": "markdown",
   "id": "035be344",
   "metadata": {},
   "source": [
    "## From Decompositions to Homomorphism Counting Plans\n",
    "\n",
    "In a final preperatory phase we translate decompositions into execution plans. These plans abstractly describe the steps that should be taken to compute homomorphism count. \n",
    "\n",
    "Plans are expected to be stored in the `plan` attribute of `GraphWrapper` objects."
   ]
  },
  {
   "cell_type": "code",
   "execution_count": 12,
   "id": "bbd067f7",
   "metadata": {},
   "outputs": [],
   "source": [
    "from pact.planner import node_to_ops\n",
    "\n",
    "for G in spasm_space.graphs_iter():\n",
    "    G.plan = node_to_ops(G.td)"
   ]
  },
  {
   "cell_type": "markdown",
   "id": "9513f2fc",
   "metadata": {},
   "source": [
    "Plans support human readable ouput. Technically, a plan is simply a `deque` of `code.Operation` objects. The plan is to be read in sequence but ultimately it is up to the execution engine how to execute it. A more detailed explanation of the individual operations will follow."
   ]
  },
  {
   "cell_type": "code",
   "execution_count": 13,
   "id": "eacfa951",
   "metadata": {},
   "outputs": [
    {
     "data": {
      "text/html": [
       "<pre style=\"white-space:pre;overflow-x:auto;line-height:normal;font-family:Menlo,'DejaVu Sans Mono',consolas,'Courier New',monospace\"></pre>\n"
      ],
      "text/plain": []
     },
     "metadata": {},
     "output_type": "display_data"
    },
    {
     "data": {
      "text/plain": [
       "\n",
       "\u001b[1;35mdeque\u001b[0m\u001b[1m(\u001b[0m\u001b[1m[\u001b[0m\n",
       "    ⍴: _edge_base -> \u001b[1;35mE_5\u001b[0m\u001b[1m(\u001b[0m\u001b[1;36m3\u001b[0m, \u001b[1;36m4\u001b[0m\u001b[1m)\u001b[0m,\n",
       "    ⍴: _edge_base -> \u001b[1;35mE_0\u001b[0m\u001b[1m(\u001b[0m\u001b[1;36m0\u001b[0m, \u001b[1;36m3\u001b[0m\u001b[1m)\u001b[0m,\n",
       "    node$\u001b[1;36m0\u001b[0m = E_5 ⨝ E_0 \u001b[1m(\u001b[0mon \u001b[1m{\u001b[0m\u001b[1;36m3\u001b[0m\u001b[1m}\u001b[0m\u001b[1m)\u001b[0m,\n",
       "    node$\u001b[1;36m0\u001b[0m = project node$\u001b[1;36m0\u001b[0m to \u001b[1m{\u001b[0m\u001b[1;36m0\u001b[0m, \u001b[1;36m3\u001b[0m, \u001b[1;36m4\u001b[0m\u001b[1m}\u001b[0m,\n",
       "    ⍴: _edge_base -> node$\u001b[1;35m1\u001b[0m\u001b[1m(\u001b[0m\u001b[1;36m2\u001b[0m, \u001b[1;36m4\u001b[0m\u001b[1m)\u001b[0m,\n",
       "    ⍴: _edge_base -> node$\u001b[1;35m2\u001b[0m\u001b[1m(\u001b[0m\u001b[1;36m0\u001b[0m, \u001b[1;36m4\u001b[0m\u001b[1m)\u001b[0m,\n",
       "    ⍴: _edge_base -> \u001b[1;35mE_3\u001b[0m\u001b[1m(\u001b[0m\u001b[1;36m1\u001b[0m, \u001b[1;36m4\u001b[0m\u001b[1m)\u001b[0m,\n",
       "    ⍴: _edge_base -> \u001b[1;35mE_2\u001b[0m\u001b[1m(\u001b[0m\u001b[1;36m1\u001b[0m, \u001b[1;36m3\u001b[0m\u001b[1m)\u001b[0m,\n",
       "    node$\u001b[1;36m3\u001b[0m = E_3 ⨝ E_2 \u001b[1m(\u001b[0mon \u001b[1m{\u001b[0m\u001b[1;36m1\u001b[0m\u001b[1m}\u001b[0m\u001b[1m)\u001b[0m,\n",
       "    node$\u001b[1;36m3\u001b[0m = project node$\u001b[1;36m3\u001b[0m to \u001b[1m{\u001b[0m\u001b[1;36m1\u001b[0m, \u001b[1;36m3\u001b[0m, \u001b[1;36m4\u001b[0m\u001b[1m}\u001b[0m,\n",
       "    node$\u001b[1;36m0\u001b[0m = node$\u001b[1;36m0\u001b[0m ⋉ node$\u001b[1;36m2\u001b[0m \u001b[1m(\u001b[0mon \u001b[1m{\u001b[0m\u001b[1;36m0\u001b[0m, \u001b[1;36m4\u001b[0m\u001b[1m}\u001b[0m\u001b[1m)\u001b[0m,\n",
       "    node$\u001b[1;36m1\u001b[0m = Count extensions of \u001b[1m{\u001b[0m\u001b[1;36m4\u001b[0m\u001b[1m}\u001b[0m in node$\u001b[1;36m1\u001b[0m,\n",
       "    node$\u001b[1;36m0\u001b[0m = Merge count from node$\u001b[1;35m1\u001b[0m\u001b[1m(\u001b[0m\u001b[1m{\u001b[0m\u001b[1;36m4\u001b[0m\u001b[1m}\u001b[0m\u001b[1m)\u001b[0m into node$\u001b[1;36m0\u001b[0m,\n",
       "    node$\u001b[1;36m3\u001b[0m = Count extensions of \u001b[1m{\u001b[0m\u001b[1;36m3\u001b[0m, \u001b[1;36m4\u001b[0m\u001b[1m}\u001b[0m in node$\u001b[1;36m3\u001b[0m,\n",
       "    node$\u001b[1;36m0\u001b[0m = Merge count from node$\u001b[1;35m3\u001b[0m\u001b[1m(\u001b[0m\u001b[1m{\u001b[0m\u001b[1;36m3\u001b[0m, \u001b[1;36m4\u001b[0m\u001b[1m}\u001b[0m\u001b[1m)\u001b[0m into node$\u001b[1;36m0\u001b[0m\n",
       "\u001b[1m]\u001b[0m\u001b[1m)\u001b[0m"
      ]
     },
     "execution_count": 13,
     "metadata": {},
     "output_type": "execute_result"
    }
   ],
   "source": [
    "ex_graph.plan"
   ]
  },
  {
   "cell_type": "markdown",
   "id": "ad76458d",
   "metadata": {},
   "source": [
    "# Part 2: Execution on Host Graphs\n",
    "\n",
    "With everything now in place, all that is left is to actually compute the $\\#Hom(F \\rightarrow H)$ terms of our original formula for $\\#Sub(P \\rightarrow H)$ for specific host graphs $H$."
   ]
  },
  {
   "cell_type": "markdown",
   "id": "7a8df0f0",
   "metadata": {},
   "source": [
    "## Loading the Host Graph\n",
    "\n",
    "The required format for the host graph depends on which execution engine is used. In this tutorial we will use the *naive pandas execution engine*, which takes as input a `pandas.DataFrame` that represents the edge relation of our host graph. The dataframe must have attributes `s` and `t`, source and target, respectively. \n",
    "\n",
    "Note that an edge $\\{a,b\\}$ in an undirected graph must have two entries in the relation, one $(a,b)$ and one $(b,a)$. "
   ]
  },
  {
   "cell_type": "code",
   "execution_count": 14,
   "id": "df694045",
   "metadata": {},
   "outputs": [],
   "source": [
    "import pandas as pd\n",
    "\n",
    "host_nx = nx.read_gml('data/tutorial/schi_pombe.gml', label=None)\n",
    "\n",
    "# IMPORTANT: for undirected graphs we need both directions in our edge relation\n",
    "edges = [{'s': a, 't': b} for a,b in host_nx.edges()] + [{'s': b, 't': a} for a,b in host_nx.edges()]\n",
    "host_df = pd.DataFrame(edges).drop_duplicates()"
   ]
  },
  {
   "cell_type": "markdown",
   "id": "d8c555dd",
   "metadata": {},
   "source": [
    "## Executing Counting Plans\n",
    "\n",
    "The plan of a graph G form a list of instructions which can be executed to count the number of homomorphisms from G into the host graph. In particular, for a `GraphWrapper` object with a plan, we can execute the plan on a given host using different execution backends.\n",
    "\n",
    "At the moment only one such backend exists: the naive pandas backend executes the instructions directly as given using pandas for the heavy lifting. The homomorphism count can be computed via this backend with the `naive_pandas_homcount(G, H)` function, which directly returns $\\#Hom(G \\rightarrow H)$. Note that as described above $H$ is passed as an edge relation in a `pandas.DataFrame`."
   ]
  },
  {
   "cell_type": "code",
   "execution_count": 15,
   "id": "95b2aa56",
   "metadata": {},
   "outputs": [
    {
     "data": {
      "text/html": [
       "<pre style=\"white-space:pre;overflow-x:auto;line-height:normal;font-family:Menlo,'DejaVu Sans Mono',consolas,'Courier New',monospace\"></pre>\n"
      ],
      "text/plain": []
     },
     "metadata": {},
     "output_type": "display_data"
    },
    {
     "data": {
      "text/plain": [
       "\u001b[1;36m454750\u001b[0m"
      ]
     },
     "execution_count": 15,
     "metadata": {},
     "output_type": "execute_result"
    }
   ],
   "source": [
    "from pact.naive_exec import naive_pandas_homcount\n",
    "\n",
    "naive_pandas_homcount(ex_graph, host_df)"
   ]
  },
  {
   "cell_type": "markdown",
   "id": "08dcf356",
   "metadata": {},
   "source": [
    "## Counting a Pattern\n",
    "\n",
    "We finally arrive at counting the number of times a pattern occurs as a subgraph of the host. Let us recall our original formula for computing the subgraph count.\n",
    "$$\\#Sub(P \\rightarrow H) = \\sum_{F \\in Spasm(P)} \\mu(F,P) \\cdot \\#Hom(F \\rightarrow H)$$\n",
    "In the previous steps we have computed $Spasm(P)$ as well as all $\\mu$ coefficiens, as well as tree decomposition based execution plans for counting $\\#Hom(F \\rightarrow H)$ for all graphs that occur in the spasms of our patterns.\n",
    "\n",
    "What is left is to apply the plans to compute the values of $\\#Hom(F \\rightarrow H)$ for concrete host graphs $H$.\n",
    "The code below demonstrates how to gather the (non-zero) terms of the above sum for a pattern, and consequently compute the full subgraph count, for our example pattern `ex_pat`. \n",
    "\n",
    "Note that because our coefficients use the `gmpy2.mpq` type for precision, this produces `mpq` values which are dispayed as (numerator, denominator) pairs."
   ]
  },
  {
   "cell_type": "code",
   "execution_count": 16,
   "id": "f5312a41",
   "metadata": {},
   "outputs": [
    {
     "name": "stdout",
     "output_type": "stream",
     "text": [
      "#Sub(P -> H): 62638680\n"
     ]
    },
    {
     "data": {
      "text/html": [
       "<pre style=\"white-space:pre;overflow-x:auto;line-height:normal;font-family:Menlo,'DejaVu Sans Mono',consolas,'Courier New',monospace\"></pre>\n"
      ],
      "text/plain": []
     },
     "metadata": {},
     "output_type": "display_data"
    },
    {
     "data": {
      "text/plain": [
       "\n",
       "\u001b[1m{\u001b[0m\n",
       "    \u001b[1;36m244471403881519891900181704987527009525\u001b[0m: \u001b[1;35mmpq\u001b[0m\u001b[1m(\u001b[0m\u001b[1;36m-9246\u001b[0m,\u001b[1;36m1\u001b[0m\u001b[1m)\u001b[0m,\n",
       "    \u001b[1;36m200805017286104562580457396622371148304\u001b[0m: \u001b[1;35mmpq\u001b[0m\u001b[1m(\u001b[0m\u001b[1;36m73815\u001b[0m,\u001b[1;36m1\u001b[0m\u001b[1m)\u001b[0m,\n",
       "    \u001b[1;36m280376347674979585194257264981957219449\u001b[0m: \u001b[1;35mmpq\u001b[0m\u001b[1m(\u001b[0m\u001b[1;36m238400\u001b[0m,\u001b[1;36m1\u001b[0m\u001b[1m)\u001b[0m,\n",
       "    \u001b[1;36m258662326575684880685635720424942876393\u001b[0m: \u001b[1;35mmpq\u001b[0m\u001b[1m(\u001b[0m\u001b[1;36m-175888\u001b[0m,\u001b[1;36m1\u001b[0m\u001b[1m)\u001b[0m,\n",
       "    \u001b[1;36m146011057545644161557291642472811544920\u001b[0m: \u001b[1;35mmpq\u001b[0m\u001b[1m(\u001b[0m\u001b[1;36m-109845\u001b[0m,\u001b[1;36m1\u001b[0m\u001b[1m)\u001b[0m,\n",
       "    \u001b[1;36m245413697315286802743807153654882190908\u001b[0m: \u001b[1;35mmpq\u001b[0m\u001b[1m(\u001b[0m\u001b[1;36m-1094229\u001b[0m,\u001b[1;36m1\u001b[0m\u001b[1m)\u001b[0m,\n",
       "    \u001b[1;36m273134957091060411677327821996853583980\u001b[0m: \u001b[1;35mmpq\u001b[0m\u001b[1m(\u001b[0m\u001b[1;36m-1738197\u001b[0m,\u001b[1;36m1\u001b[0m\u001b[1m)\u001b[0m,\n",
       "    \u001b[1;36m66719643163285929538505745610842253983\u001b[0m: \u001b[1;35mmpq\u001b[0m\u001b[1m(\u001b[0m\u001b[1;36m-2348271\u001b[0m,\u001b[1;36m2\u001b[0m\u001b[1m)\u001b[0m,\n",
       "    \u001b[1;36m84273283320066270384244169320407146834\u001b[0m: \u001b[1;35mmpq\u001b[0m\u001b[1m(\u001b[0m\u001b[1;36m1534746\u001b[0m,\u001b[1;36m1\u001b[0m\u001b[1m)\u001b[0m,\n",
       "    \u001b[1;36m193101649776123763688982186209706020543\u001b[0m: \u001b[1;35mmpq\u001b[0m\u001b[1m(\u001b[0m\u001b[1;36m2688111\u001b[0m,\u001b[1;36m1\u001b[0m\u001b[1m)\u001b[0m,\n",
       "    \u001b[1;36m69590959277943715886386460662349719302\u001b[0m: \u001b[1;35mmpq\u001b[0m\u001b[1m(\u001b[0m\u001b[1;36m3754314\u001b[0m,\u001b[1;36m1\u001b[0m\u001b[1m)\u001b[0m,\n",
       "    \u001b[1;36m194004892045500727445598428862645766084\u001b[0m: \u001b[1;35mmpq\u001b[0m\u001b[1m(\u001b[0m\u001b[1;36m2565735\u001b[0m,\u001b[1;36m2\u001b[0m\u001b[1m)\u001b[0m,\n",
       "    \u001b[1;36m55146198916550377801394465856303775856\u001b[0m: \u001b[1;35mmpq\u001b[0m\u001b[1m(\u001b[0m\u001b[1;36m909500\u001b[0m,\u001b[1;36m1\u001b[0m\u001b[1m)\u001b[0m,\n",
       "    \u001b[1;36m54695293067644195284398106656028363738\u001b[0m: \u001b[1;35mmpq\u001b[0m\u001b[1m(\u001b[0m\u001b[1;36m111938\u001b[0m,\u001b[1;36m1\u001b[0m\u001b[1m)\u001b[0m,\n",
       "    \u001b[1;36m241758357588706690769845049306420308138\u001b[0m: \u001b[1;35mmpq\u001b[0m\u001b[1m(\u001b[0m\u001b[1;36m12445155\u001b[0m,\u001b[1;36m1\u001b[0m\u001b[1m)\u001b[0m,\n",
       "    \u001b[1;36m24883373538079352055065965295148335320\u001b[0m: \u001b[1;35mmpq\u001b[0m\u001b[1m(\u001b[0m\u001b[1;36m2177574\u001b[0m,\u001b[1;36m1\u001b[0m\u001b[1m)\u001b[0m,\n",
       "    \u001b[1;36m183865322710435675491774000165040442587\u001b[0m: \u001b[1;35mmpq\u001b[0m\u001b[1m(\u001b[0m\u001b[1;36m4875256\u001b[0m,\u001b[1;36m1\u001b[0m\u001b[1m)\u001b[0m,\n",
       "    \u001b[1;36m134672613886082743296041172130123887562\u001b[0m: \u001b[1;35mmpq\u001b[0m\u001b[1m(\u001b[0m\u001b[1;36m-60067845\u001b[0m,\u001b[1;36m2\u001b[0m\u001b[1m)\u001b[0m,\n",
       "    \u001b[1;36m249250281349047097037132682571385289116\u001b[0m: \u001b[1;35mmpq\u001b[0m\u001b[1m(\u001b[0m\u001b[1;36m-10527076\u001b[0m,\u001b[1;36m1\u001b[0m\u001b[1m)\u001b[0m,\n",
       "    \u001b[1;36m74311936876948642230131623326800756430\u001b[0m: \u001b[1;35mmpq\u001b[0m\u001b[1m(\u001b[0m\u001b[1;36m-10360537\u001b[0m,\u001b[1;36m1\u001b[0m\u001b[1m)\u001b[0m,\n",
       "    \u001b[1;36m100146012587478022275270086846012758251\u001b[0m: \u001b[1;35mmpq\u001b[0m\u001b[1m(\u001b[0m\u001b[1;36m-12737789\u001b[0m,\u001b[1;36m2\u001b[0m\u001b[1m)\u001b[0m,\n",
       "    \u001b[1;36m333447451475214955032543438464829452839\u001b[0m: \u001b[1;35mmpq\u001b[0m\u001b[1m(\u001b[0m\u001b[1;36m-22169881\u001b[0m,\u001b[1;36m2\u001b[0m\u001b[1m)\u001b[0m,\n",
       "    \u001b[1;36m219831900909649418933876728263860555244\u001b[0m: \u001b[1;35mmpq\u001b[0m\u001b[1m(\u001b[0m\u001b[1;36m-35095743\u001b[0m,\u001b[1;36m1\u001b[0m\u001b[1m)\u001b[0m,\n",
       "    \u001b[1;36m12314306155591027532348329433199392317\u001b[0m: \u001b[1;35mmpq\u001b[0m\u001b[1m(\u001b[0m\u001b[1;36m280639315\u001b[0m,\u001b[1;36m2\u001b[0m\u001b[1m)\u001b[0m\n",
       "\u001b[1m}\u001b[0m"
      ]
     },
     "execution_count": 16,
     "metadata": {},
     "output_type": "execute_result"
    }
   ],
   "source": [
    "hombase_pattern_terms = dict()\n",
    "\n",
    "for spasm_id, coeff in ex_pat.hombase.items():\n",
    "    spasm_graph = spasm_space[spasm_id]\n",
    "    spasm_count = naive_pandas_homcount(spasm_graph, host_df)\n",
    "    hombase_pattern_terms[spasm_id] = coeff * spasm_count\n",
    "\n",
    "print('#Sub(P -> H):', sum(hombase_pattern_terms.values()))\n",
    "\n",
    "# we also display the individual terms of the sum for each F in Spasm(P)\n",
    "hombase_pattern_terms"
   ]
  },
  {
   "cell_type": "markdown",
   "id": "019f9894",
   "metadata": {},
   "source": [
    "## Counting all Patterns\n",
    "\n",
    "When we want to count the subgraph occurrences for a number of different patterns we can be a bit smarter.\n",
    "In settings such as our example, many graphs occur in the homomorphism base of multiple patterns. \n",
    "\n",
    "Rather than counting their homomorphism counts repeatedly for each pattern, we can instead count the homomorphisms once for every graph in the spasm space and compute the patterns counts all at once.\n"
   ]
  },
  {
   "cell_type": "code",
   "execution_count": 17,
   "id": "2bec5099",
   "metadata": {},
   "outputs": [
    {
     "data": {
      "application/vnd.jupyter.widget-view+json": {
       "model_id": "280b07e150e44eb089528c1174a855c7",
       "version_major": 2,
       "version_minor": 0
      },
      "text/plain": [
       "Output()"
      ]
     },
     "metadata": {},
     "output_type": "display_data"
    },
    {
     "data": {
      "text/html": [
       "<pre style=\"white-space:pre;overflow-x:auto;line-height:normal;font-family:Menlo,'DejaVu Sans Mono',consolas,'Courier New',monospace\"></pre>\n"
      ],
      "text/plain": []
     },
     "metadata": {},
     "output_type": "display_data"
    },
    {
     "data": {
      "text/html": [
       "<pre style=\"white-space:pre;overflow-x:auto;line-height:normal;font-family:Menlo,'DejaVu Sans Mono',consolas,'Courier New',monospace\">\n",
       "</pre>\n"
      ],
      "text/plain": [
       "\n"
      ]
     },
     "metadata": {},
     "output_type": "display_data"
    },
    {
     "data": {
      "text/html": [
       "<pre style=\"white-space:pre;overflow-x:auto;line-height:normal;font-family:Menlo,'DejaVu Sans Mono',consolas,'Courier New',monospace\"></pre>\n"
      ],
      "text/plain": []
     },
     "metadata": {},
     "output_type": "display_data"
    },
    {
     "data": {
      "text/plain": [
       "\n",
       "\u001b[1m{\u001b[0m\n",
       "    \u001b[1;36m190384357088276965136693023116342970814\u001b[0m: \u001b[1;35mmpq\u001b[0m\u001b[1m(\u001b[0m\u001b[1;36m68828058\u001b[0m,\u001b[1;36m1\u001b[0m\u001b[1m)\u001b[0m,\n",
       "    \u001b[1;36m87968536505999792063251622645303437152\u001b[0m: \u001b[1;35mmpq\u001b[0m\u001b[1m(\u001b[0m\u001b[1;36m109656596\u001b[0m,\u001b[1;36m1\u001b[0m\u001b[1m)\u001b[0m,\n",
       "    \u001b[1;36m116130532718508524490079362148244371643\u001b[0m: \u001b[1;35mmpq\u001b[0m\u001b[1m(\u001b[0m\u001b[1;36m30382730\u001b[0m,\u001b[1;36m1\u001b[0m\u001b[1m)\u001b[0m,\n",
       "    \u001b[1;36m304019808730398462645962837222145370967\u001b[0m: \u001b[1;35mmpq\u001b[0m\u001b[1m(\u001b[0m\u001b[1;36m53045833\u001b[0m,\u001b[1;36m1\u001b[0m\u001b[1m)\u001b[0m,\n",
       "    \u001b[1;36m169753036403415102524309189092001454411\u001b[0m: \u001b[1;35mmpq\u001b[0m\u001b[1m(\u001b[0m\u001b[1;36m82915983\u001b[0m,\u001b[1;36m1\u001b[0m\u001b[1m)\u001b[0m,\n",
       "    \u001b[1;36m17902548692492397906272402987230910192\u001b[0m: \u001b[1;35mmpq\u001b[0m\u001b[1m(\u001b[0m\u001b[1;36m56009486\u001b[0m,\u001b[1;36m1\u001b[0m\u001b[1m)\u001b[0m,\n",
       "    \u001b[1;36m144812595679229883217623805773300660911\u001b[0m: \u001b[1;35mmpq\u001b[0m\u001b[1m(\u001b[0m\u001b[1;36m50062057\u001b[0m,\u001b[1;36m1\u001b[0m\u001b[1m)\u001b[0m,\n",
       "    \u001b[1;36m129632563928494135457881829008522067115\u001b[0m: \u001b[1;35mmpq\u001b[0m\u001b[1m(\u001b[0m\u001b[1;36m93357910\u001b[0m,\u001b[1;36m1\u001b[0m\u001b[1m)\u001b[0m,\n",
       "    \u001b[1;36m245024156124066838666528091004667761126\u001b[0m: \u001b[1;35mmpq\u001b[0m\u001b[1m(\u001b[0m\u001b[1;36m14232418\u001b[0m,\u001b[1;36m1\u001b[0m\u001b[1m)\u001b[0m,\n",
       "    \u001b[1;36m14689815793139536459496296402553498920\u001b[0m: \u001b[1;35mmpq\u001b[0m\u001b[1m(\u001b[0m\u001b[1;36m62638680\u001b[0m,\u001b[1;36m1\u001b[0m\u001b[1m)\u001b[0m,\n",
       "    \u001b[1;36m98135613334211697414771868798897728850\u001b[0m: \u001b[1;35mmpq\u001b[0m\u001b[1m(\u001b[0m\u001b[1;36m9372935\u001b[0m,\u001b[1;36m1\u001b[0m\u001b[1m)\u001b[0m\n",
       "\u001b[1m}\u001b[0m"
      ]
     },
     "execution_count": 17,
     "metadata": {},
     "output_type": "execute_result"
    }
   ],
   "source": [
    "pattern_counts = {pattern_id: 0 for pattern_id in patterns.keys()}\n",
    "\n",
    "with default_progressbar() as progress:\n",
    "    track = progress.track(spasm_space.graphs_iter(), total=len(spasm_space))\n",
    "    for spasm_graph in track:\n",
    "        hom_count = naive_pandas_homcount(spasm_graph, host_df)\n",
    "\n",
    "        for pattern in patterns.values():\n",
    "            if spasm_graph.id in pattern.hombase:\n",
    "                coeff = pattern.hombase[spasm_graph.id]\n",
    "                to_add = hom_count * coeff\n",
    "                pattern_counts[pattern.id] += to_add\n",
    "\n",
    "pattern_counts"
   ]
  },
  {
   "cell_type": "markdown",
   "id": "d99203d1",
   "metadata": {},
   "source": [
    "## Plot the Most Common Patterns\n",
    "\n",
    "From here on you can analyse our results with whichever tools you prefer. Here is an example of plotting the top counts and plotting the top 3 patterns."
   ]
  },
  {
   "cell_type": "code",
   "execution_count": 18,
   "id": "872519c7",
   "metadata": {},
   "outputs": [
    {
     "data": {
      "text/html": [
       "<pre style=\"white-space:pre;overflow-x:auto;line-height:normal;font-family:Menlo,'DejaVu Sans Mono',consolas,'Courier New',monospace\"></pre>\n"
      ],
      "text/plain": []
     },
     "metadata": {},
     "output_type": "display_data"
    },
    {
     "data": {
      "text/html": [
       "<div>\n",
       "<style scoped>\n",
       "    .dataframe tbody tr th:only-of-type {\n",
       "        vertical-align: middle;\n",
       "    }\n",
       "\n",
       "    .dataframe tbody tr th {\n",
       "        vertical-align: top;\n",
       "    }\n",
       "\n",
       "    .dataframe thead th {\n",
       "        text-align: right;\n",
       "    }\n",
       "</style>\n",
       "<table border=\"1\" class=\"dataframe\">\n",
       "  <thead>\n",
       "    <tr style=\"text-align: right;\">\n",
       "      <th></th>\n",
       "      <th>pattern</th>\n",
       "      <th>#Sub</th>\n",
       "    </tr>\n",
       "  </thead>\n",
       "  <tbody>\n",
       "    <tr>\n",
       "      <th>1</th>\n",
       "      <td>87968536505999792063251622645303437152</td>\n",
       "      <td>109656596</td>\n",
       "    </tr>\n",
       "    <tr>\n",
       "      <th>7</th>\n",
       "      <td>129632563928494135457881829008522067115</td>\n",
       "      <td>93357910</td>\n",
       "    </tr>\n",
       "    <tr>\n",
       "      <th>4</th>\n",
       "      <td>169753036403415102524309189092001454411</td>\n",
       "      <td>82915983</td>\n",
       "    </tr>\n",
       "    <tr>\n",
       "      <th>0</th>\n",
       "      <td>190384357088276965136693023116342970814</td>\n",
       "      <td>68828058</td>\n",
       "    </tr>\n",
       "    <tr>\n",
       "      <th>9</th>\n",
       "      <td>14689815793139536459496296402553498920</td>\n",
       "      <td>62638680</td>\n",
       "    </tr>\n",
       "  </tbody>\n",
       "</table>\n",
       "</div>"
      ],
      "text/plain": [
       "\n",
       "                                   pattern       #Sub\n",
       "\u001b[1;36m1\u001b[0m   \u001b[1;36m87968536505999792063251622645303437152\u001b[0m  \u001b[1;36m109656596\u001b[0m\n",
       "\u001b[1;36m7\u001b[0m  \u001b[1;36m129632563928494135457881829008522067115\u001b[0m   \u001b[1;36m93357910\u001b[0m\n",
       "\u001b[1;36m4\u001b[0m  \u001b[1;36m169753036403415102524309189092001454411\u001b[0m   \u001b[1;36m82915983\u001b[0m\n",
       "\u001b[1;36m0\u001b[0m  \u001b[1;36m190384357088276965136693023116342970814\u001b[0m   \u001b[1;36m68828058\u001b[0m\n",
       "\u001b[1;36m9\u001b[0m   \u001b[1;36m14689815793139536459496296402553498920\u001b[0m   \u001b[1;36m62638680\u001b[0m"
      ]
     },
     "execution_count": 18,
     "metadata": {},
     "output_type": "execute_result"
    }
   ],
   "source": [
    "result_df = pd.DataFrame({'pattern': pid, '#Sub': int(c)} for pid, c in pattern_counts.items())\n",
    "\n",
    "# show the top patterns\n",
    "result_df.sort_values('#Sub', ascending=False).head()"
   ]
  },
  {
   "cell_type": "code",
   "execution_count": 19,
   "id": "2e594ea6",
   "metadata": {},
   "outputs": [
    {
     "data": {
      "text/html": [
       "<pre style=\"white-space:pre;overflow-x:auto;line-height:normal;font-family:Menlo,'DejaVu Sans Mono',consolas,'Courier New',monospace\"></pre>\n"
      ],
      "text/plain": []
     },
     "metadata": {},
     "output_type": "display_data"
    },
    {
     "data": {
      "image/png": "[encoded data removed]",
      "text/plain": [
       "\u001b[1m<\u001b[0m\u001b[1;95mFigure\u001b[0m\u001b[39m size 140\u001b[0m\u001b[1;36m0x300\u001b[0m\u001b[39m with \u001b[0m\u001b[1;36m5\u001b[0m\u001b[39m Axes\u001b[0m\u001b[1m>\u001b[0m"
      ]
     },
     "metadata": {},
     "output_type": "display_data"
    }
   ],
   "source": [
    "# maybe create a reporting library? or just copy paste for now\n",
    "\n",
    "def draw_topn_patterns(df, n):\n",
    "    analysisdf = df\n",
    "\n",
    "    subcol = [c for c in df.columns if '#Sub' in c][0]\n",
    "    fig = plt.figure(figsize=(3*n-1,3))\n",
    "    fig.suptitle(f'Top {n} patterns')\n",
    "    gs = fig.add_gridspec(nrows=1, ncols=n)\n",
    "\n",
    "    for i in range(n):\n",
    "        ax1 = fig.add_subplot(gs[0, i])\n",
    "        most = analysisdf.sort_values(subcol, ascending=False).iloc[i]\n",
    "        nx.draw(patterns[most.pattern].graph)\n",
    "        plt.title(f'Rank {i+1}: {most[subcol]:.3E} times')\n",
    "    plt.tight_layout(w_pad=5)\n",
    "    \n",
    "draw_topn_patterns(result_df, 5)"
   ]
  }
 ],
 "metadata": {
  "kernelspec": {
   "display_name": "Python 3 (ipykernel)",
   "language": "python",
   "name": "python3"
  },
  "language_info": {
   "codemirror_mode": {
    "name": "ipython",
    "version": 3
   },
   "file_extension": ".py",
   "mimetype": "text/x-python",
   "name": "python",
   "nbconvert_exporter": "python",
   "pygments_lexer": "ipython3",
   "version": "3.10.13"
  }
 },
 "nbformat": 4,
 "nbformat_minor": 5
}
